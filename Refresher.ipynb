{
 "cells": [
  {
   "cell_type": "code",
   "execution_count": 2,
   "id": "fa2c1a7d-7331-46be-be49-e0cc7e8e6fce",
   "metadata": {},
   "outputs": [
    {
     "name": "stdout",
     "output_type": "stream",
     "text": [
      "Hello\n"
     ]
    }
   ],
   "source": [
    "print(\"Hello\")"
   ]
  },
  {
   "cell_type": "code",
   "execution_count": 4,
   "id": "73fa83ee",
   "metadata": {},
   "outputs": [
    {
     "name": "stdout",
     "output_type": "stream",
     "text": [
      "Hello Python Interpreter!\n"
     ]
    }
   ],
   "source": [
    "print(\"Hello Python Interpreter!\")"
   ]
  },
  {
   "cell_type": "code",
   "execution_count": 8,
   "id": "837279ff",
   "metadata": {},
   "outputs": [
    {
     "name": "stdout",
     "output_type": "stream",
     "text": [
      "Hello world!\n"
     ]
    }
   ],
   "source": [
    "#variables\n",
    "message= \"Hello world!\"\n",
    "print(message)"
   ]
  },
  {
   "cell_type": "code",
   "execution_count": 9,
   "id": "2fd69acd",
   "metadata": {},
   "outputs": [
    {
     "name": "stdout",
     "output_type": "stream",
     "text": [
      "Hello, what's up?\n"
     ]
    }
   ],
   "source": [
    "\n",
    "message=(\"Hello, what's up?\")\n",
    "print(message)"
   ]
  },
  {
   "cell_type": "code",
   "execution_count": 1,
   "id": "8b2434e2",
   "metadata": {},
   "outputs": [
    {
     "name": "stdout",
     "output_type": "stream",
     "text": [
      "ada loveslace\n"
     ]
    }
   ],
   "source": [
    "\n",
    "name= \"ada loveslace\"\n",
    "print(name)"
   ]
  },
  {
   "cell_type": "code",
   "execution_count": 2,
   "id": "333b3366",
   "metadata": {},
   "outputs": [
    {
     "name": "stdout",
     "output_type": "stream",
     "text": [
      "Ada Loveslace\n"
     ]
    }
   ],
   "source": [
    "#changing case in strings with methods \n",
    "name= \"ada loveslace\"\n",
    "print(name.title())"
   ]
  },
  {
   "cell_type": "code",
   "execution_count": 3,
   "id": "7d08d766",
   "metadata": {},
   "outputs": [
    {
     "name": "stdout",
     "output_type": "stream",
     "text": [
      "ADA LOVESLACE\n"
     ]
    }
   ],
   "source": [
    " \n",
    "name=\"ada loveslace\"\n",
    "print(name.upper())"
   ]
  },
  {
   "cell_type": "code",
   "execution_count": 4,
   "id": "25681298",
   "metadata": {},
   "outputs": [
    {
     "name": "stdout",
     "output_type": "stream",
     "text": [
      "ada loveslace\n"
     ]
    }
   ],
   "source": [
    "\n",
    "name=\"ada loveslace\"\n",
    "print(name.lower())"
   ]
  },
  {
   "cell_type": "code",
   "execution_count": 6,
   "id": "4ec6bcb5",
   "metadata": {},
   "outputs": [
    {
     "name": "stdout",
     "output_type": "stream",
     "text": [
      "Finn,loves to play with Gift\n"
     ]
    }
   ],
   "source": [
    "#using variables in strings\n",
    "first_name=\"Finn\"\n",
    "last_name=\"loves to play with Gift\"\n",
    "full_message=f\"{first_name},{last_name}\"\n",
    "print(full_message)"
   ]
  },
  {
   "cell_type": "code",
   "execution_count": 8,
   "id": "ab4475b1",
   "metadata": {},
   "outputs": [
    {
     "name": "stdout",
     "output_type": "stream",
     "text": [
      "Gift joined PP1 and he loves going to school\n"
     ]
    }
   ],
   "source": [
    "name=\"Gift\"\n",
    "message=\"joined PP1 and he loves going to school\"\n",
    "full_statement=f\"{name} {message}\"\n",
    "print(full_statement)"
   ]
  },
  {
   "cell_type": "code",
   "execution_count": 9,
   "id": "27d34a29",
   "metadata": {},
   "outputs": [
    {
     "data": {
      "text/plain": [
       "'python.org'"
      ]
     },
     "execution_count": 9,
     "metadata": {},
     "output_type": "execute_result"
    }
   ],
   "source": [
    "#removing prefix\n",
    "python_url=\"https://python.org\"\n",
    "python_url.removeprefix(\"https://\")"
   ]
  },
  {
   "cell_type": "code",
   "execution_count": 12,
   "id": "2b156c31",
   "metadata": {},
   "outputs": [
    {
     "name": "stdout",
     "output_type": "stream",
     "text": [
      "Hello Eric, would you like to learn some python today?\n"
     ]
    }
   ],
   "source": [
    "#exercise\n",
    "name=\"Eric\"\n",
    "message=\"would you like to learn some python today?\"\n",
    "full_info=f\"Hello {name}, {message}\"\n",
    "print(full_info)"
   ]
  },
  {
   "cell_type": "code",
   "execution_count": 13,
   "id": "b8144c33",
   "metadata": {},
   "outputs": [
    {
     "name": "stdout",
     "output_type": "stream",
     "text": [
      "Ben\n"
     ]
    }
   ],
   "source": [
    "name=\"ben\"\n",
    "print(name.title())"
   ]
  },
  {
   "cell_type": "code",
   "execution_count": 14,
   "id": "cfa0e04a",
   "metadata": {},
   "outputs": [
    {
     "name": "stdout",
     "output_type": "stream",
     "text": [
      "BEN\n"
     ]
    }
   ],
   "source": [
    "print(name.upper())"
   ]
  },
  {
   "cell_type": "code",
   "execution_count": 16,
   "id": "7b3df41d",
   "metadata": {},
   "outputs": [
    {
     "name": "stdout",
     "output_type": "stream",
     "text": [
      "ben\n"
     ]
    }
   ],
   "source": [
    "print(name.lower())"
   ]
  },
  {
   "cell_type": "code",
   "execution_count": 18,
   "id": "8bb2f301",
   "metadata": {},
   "outputs": [
    {
     "name": "stdout",
     "output_type": "stream",
     "text": [
      "Albert Einstein once said, \"A person who never made a mistake never tries anything new\"\n"
     ]
    }
   ],
   "source": [
    "name=\"Albert Einstein\"\n",
    "message='\"A person who never made a mistake never tries anything new\"'\n",
    "full_quote=f\"{name} once said, {message}\"\n",
    "print(full_quote)"
   ]
  },
  {
   "cell_type": "code",
   "execution_count": 19,
   "id": "34da56e2",
   "metadata": {},
   "outputs": [
    {
     "name": "stdout",
     "output_type": "stream",
     "text": [
      "Albert Einstein once said, A person who never made a mistake never tries anything new\n"
     ]
    }
   ],
   "source": [
    "famous_person=\"Albert Einstein\"\n",
    "message=\"A person who never made a mistake never tries anything new\"\n",
    "famous_message=f\"{famous_person} once said, {message}\"\n",
    "print(famous_message)"
   ]
  },
  {
   "cell_type": "code",
   "execution_count": 20,
   "id": "f145eddf",
   "metadata": {},
   "outputs": [
    {
     "data": {
      "text/plain": [
       "5"
      ]
     },
     "execution_count": 20,
     "metadata": {},
     "output_type": "execute_result"
    }
   ],
   "source": [
    "#Numbers\n",
    "2+3"
   ]
  },
  {
   "cell_type": "code",
   "execution_count": 21,
   "id": "4434713c",
   "metadata": {},
   "outputs": [
    {
     "data": {
      "text/plain": [
       "1"
      ]
     },
     "execution_count": 21,
     "metadata": {},
     "output_type": "execute_result"
    }
   ],
   "source": [
    "3-2"
   ]
  },
  {
   "cell_type": "code",
   "execution_count": 22,
   "id": "c5125b1c",
   "metadata": {},
   "outputs": [
    {
     "data": {
      "text/plain": [
       "1.5"
      ]
     },
     "execution_count": 22,
     "metadata": {},
     "output_type": "execute_result"
    }
   ],
   "source": [
    "3/2"
   ]
  },
  {
   "cell_type": "code",
   "execution_count": 23,
   "id": "fb87143b",
   "metadata": {},
   "outputs": [
    {
     "data": {
      "text/plain": [
       "9"
      ]
     },
     "execution_count": 23,
     "metadata": {},
     "output_type": "execute_result"
    }
   ],
   "source": [
    "3**2"
   ]
  },
  {
   "cell_type": "code",
   "execution_count": 24,
   "id": "443dbbec",
   "metadata": {},
   "outputs": [
    {
     "data": {
      "text/plain": [
       "4"
      ]
     },
     "execution_count": 24,
     "metadata": {},
     "output_type": "execute_result"
    }
   ],
   "source": [
    "2**2"
   ]
  },
  {
   "cell_type": "code",
   "execution_count": 25,
   "id": "ca262b60",
   "metadata": {},
   "outputs": [
    {
     "data": {
      "text/plain": [
       "14"
      ]
     },
     "execution_count": 25,
     "metadata": {},
     "output_type": "execute_result"
    }
   ],
   "source": [
    "2+3*4"
   ]
  },
  {
   "cell_type": "code",
   "execution_count": 26,
   "id": "a8762000",
   "metadata": {},
   "outputs": [
    {
     "data": {
      "text/plain": [
       "20"
      ]
     },
     "execution_count": 26,
     "metadata": {},
     "output_type": "execute_result"
    }
   ],
   "source": [
    "(2+3)*4"
   ]
  },
  {
   "cell_type": "code",
   "execution_count": 27,
   "id": "8e04e8f1",
   "metadata": {},
   "outputs": [
    {
     "data": {
      "text/plain": [
       "0.30000000000000004"
      ]
     },
     "execution_count": 27,
     "metadata": {},
     "output_type": "execute_result"
    }
   ],
   "source": [
    "0.2+0.1"
   ]
  },
  {
   "cell_type": "code",
   "execution_count": 28,
   "id": "acb64056",
   "metadata": {},
   "outputs": [
    {
     "name": "stdout",
     "output_type": "stream",
     "text": [
      "14000000000\n"
     ]
    }
   ],
   "source": [
    "#underscores in Numbers\n",
    "universe_age=14_000_000_000\n",
    "print(universe_age)"
   ]
  },
  {
   "cell_type": "code",
   "execution_count": 30,
   "id": "fcc10be6",
   "metadata": {},
   "outputs": [
    {
     "name": "stdout",
     "output_type": "stream",
     "text": [
      "1 2 3\n"
     ]
    }
   ],
   "source": [
    "#multiple assignment\n",
    "x,y,z = 1,2,3\n",
    "print(x,y,z)\n"
   ]
  },
  {
   "cell_type": "code",
   "execution_count": 31,
   "id": "31d07a2f",
   "metadata": {},
   "outputs": [
    {
     "name": "stdout",
     "output_type": "stream",
     "text": [
      "5000\n"
     ]
    }
   ],
   "source": [
    "#constants\n",
    "max_connection=5000\n",
    "print(max_connection)"
   ]
  },
  {
   "cell_type": "code",
   "execution_count": 33,
   "id": "64d606fa",
   "metadata": {},
   "outputs": [
    {
     "name": "stdout",
     "output_type": "stream",
     "text": [
      "8\n"
     ]
    }
   ],
   "source": [
    "#exercise\n",
    "print(5+3)"
   ]
  },
  {
   "cell_type": "code",
   "execution_count": 38,
   "id": "b5b3e362",
   "metadata": {},
   "outputs": [
    {
     "name": "stdout",
     "output_type": "stream",
     "text": [
      "8\n"
     ]
    }
   ],
   "source": [
    "print((5-3)**3)"
   ]
  },
  {
   "cell_type": "code",
   "execution_count": 39,
   "id": "aa31b28b",
   "metadata": {},
   "outputs": [
    {
     "name": "stdout",
     "output_type": "stream",
     "text": [
      "1.6666666666666667\n"
     ]
    }
   ],
   "source": [
    "print(5/3)"
   ]
  },
  {
   "cell_type": "code",
   "execution_count": 41,
   "id": "35560568",
   "metadata": {},
   "outputs": [
    {
     "name": "stdout",
     "output_type": "stream",
     "text": [
      "['trek', 'cannondale', 'redine', 'specialized']\n"
     ]
    }
   ],
   "source": [
    "#List\n",
    "bicycles=['trek','cannondale','redine','specialized']\n",
    "print(bicycles)"
   ]
  },
  {
   "cell_type": "code",
   "execution_count": 43,
   "id": "36c45dd5",
   "metadata": {},
   "outputs": [
    {
     "name": "stdout",
     "output_type": "stream",
     "text": [
      "trek\n"
     ]
    }
   ],
   "source": [
    "#accessing individual elements in a list\n",
    "bicycles=['trek','cannondale','redine','specialized']\n",
    "print(bicycles[0])"
   ]
  },
  {
   "cell_type": "code",
   "execution_count": 44,
   "id": "a61edae9",
   "metadata": {},
   "outputs": [
    {
     "name": "stdout",
     "output_type": "stream",
     "text": [
      "cannondale\n"
     ]
    }
   ],
   "source": [
    "print(bicycles[1])"
   ]
  },
  {
   "cell_type": "code",
   "execution_count": 45,
   "id": "22e65bec",
   "metadata": {},
   "outputs": [
    {
     "name": "stdout",
     "output_type": "stream",
     "text": [
      "redine\n"
     ]
    }
   ],
   "source": [
    "print(bicycles[2])"
   ]
  },
  {
   "cell_type": "code",
   "execution_count": 50,
   "id": "04784581",
   "metadata": {},
   "outputs": [
    {
     "name": "stdout",
     "output_type": "stream",
     "text": [
      "['trek', 'cannondale', 'redine', 'specialized']\n",
      "Trek\n",
      "CANNONDALE\n",
      "redine\n"
     ]
    }
   ],
   "source": [
    "#changing of case accessing element in list\n",
    "print(bicycles)\n",
    "print(bicycles[0].title())\n",
    "print(bicycles[1].upper())\n",
    "print(bicycles[2].lower())"
   ]
  },
  {
   "cell_type": "code",
   "execution_count": 53,
   "id": "1b9f0ae8",
   "metadata": {},
   "outputs": [
    {
     "name": "stdout",
     "output_type": "stream",
     "text": [
      "specialized\n"
     ]
    }
   ],
   "source": [
    "#negative  one used to return the last value on the list, negative two returns the second last value ans so on\n",
    "print(bicycles[-1])"
   ]
  },
  {
   "cell_type": "code",
   "execution_count": 57,
   "id": "f4db1830",
   "metadata": {},
   "outputs": [
    {
     "name": "stdout",
     "output_type": "stream",
     "text": [
      "My first bicycle is trek\n"
     ]
    }
   ],
   "source": [
    "#using individual values from a list\n",
    "bicycles=['trek','cannondale','redline','specialized']\n",
    "message=f\"My first bicycle is {bicycles[0].lower()}\"\n",
    "print(message)"
   ]
  },
  {
   "cell_type": "code",
   "execution_count": 58,
   "id": "a09bd2fd",
   "metadata": {},
   "outputs": [
    {
     "name": "stdout",
     "output_type": "stream",
     "text": [
      "Ben\n",
      "Noel\n",
      "Innocent\n",
      "Pauline\n",
      "Yuffi\n"
     ]
    }
   ],
   "source": [
    "#exercise\n",
    "Names=['Ben','Noel','Innocent','Pauline','Yuffi']\n",
    "print(Names[0])\n",
    "print(Names[1])\n",
    "print(Names[2])\n",
    "print(Names[3])\n",
    "print(Names[4])"
   ]
  },
  {
   "cell_type": "code",
   "execution_count": 65,
   "id": "824921cb",
   "metadata": {},
   "outputs": [
    {
     "name": "stdout",
     "output_type": "stream",
     "text": [
      "My name is Ben\n",
      "Noel is my friend who lives in Kitengela\n",
      "Innocent is my friend who lives in South B\n",
      "Pauline is my friend who lives in Utawala\n",
      "Yuffi is my friend who lives in South B too\n"
     ]
    }
   ],
   "source": [
    "Names=['Ben','Noel','Innocent','Pauline','Yuffi']\n",
    "message=f\"My name is {Names[0]}\"\n",
    "print(message)\n",
    "message=f\"{Names[1]} is my friend who lives in Kitengela\"\n",
    "print(message)\n",
    "message=f\"{Names[2]} is my friend who lives in South B\"\n",
    "print(message)\n",
    "message=f\"{Names[3]} is my friend who lives in Utawala\"\n",
    "print(message)\n",
    "message=f\"{Names[4]} is my friend who lives in South B too\"\n",
    "print(message)"
   ]
  },
  {
   "cell_type": "code",
   "execution_count": 66,
   "id": "fa51713c",
   "metadata": {},
   "outputs": [
    {
     "name": "stdout",
     "output_type": "stream",
     "text": [
      "I like travelling using a Car\n"
     ]
    }
   ],
   "source": [
    "Mode_of_transportation=['Car','motorbike','bicycle','train']\n",
    "message=f\"I like travelling using a {Mode_of_transportation[0]}\"\n",
    "print(message)"
   ]
  },
  {
   "cell_type": "code",
   "execution_count": 69,
   "id": "cd968ce0",
   "metadata": {},
   "outputs": [
    {
     "name": "stdout",
     "output_type": "stream",
     "text": [
      "I like riding a bicycle\n"
     ]
    }
   ],
   "source": [
    "message=f\"I like riding a {Mode_of_transportation[-2]}\"\n",
    "print(message)"
   ]
  },
  {
   "cell_type": "code",
   "execution_count": 77,
   "id": "ee91bb2d",
   "metadata": {},
   "outputs": [
    {
     "name": "stdout",
     "output_type": "stream",
     "text": [
      "['honda', 'yamaha', 'suzuki']\n",
      "['ducati', 'yamaha', 'suzuki']\n"
     ]
    }
   ],
   "source": [
    "#modifying, adding, and removing elements\n",
    "#modifying\n",
    "motorcycles=['honda', 'yamaha', 'suzuki']\n",
    "print(motorcycles)\n",
    "motorcycles[0]='ducati'\n",
    "print(motorcycles)\n"
   ]
  },
  {
   "cell_type": "code",
   "execution_count": 81,
   "id": "d71a1d05",
   "metadata": {},
   "outputs": [
    {
     "name": "stdout",
     "output_type": "stream",
     "text": [
      "['honda', 'yamaha', 'suzuki', 'ducati']\n"
     ]
    }
   ],
   "source": [
    "#adding an element in a list\n",
    "motorcycles=['honda', 'yamaha', 'suzuki']\n",
    "motorcycles.append('ducati')\n",
    "print(motorcycles)"
   ]
  },
  {
   "cell_type": "code",
   "execution_count": 83,
   "id": "a27d30d6",
   "metadata": {},
   "outputs": [
    {
     "name": "stdout",
     "output_type": "stream",
     "text": [
      "['ducati', 'honda', 'yamaha', 'suzuki']\n"
     ]
    }
   ],
   "source": [
    "#inserting an element in a list\n",
    "motorcycles=['honda', 'yamaha', 'suzuki']\n",
    "motorcycles.insert(0, 'ducati')\n",
    "print(motorcycles)\n"
   ]
  },
  {
   "cell_type": "code",
   "execution_count": 84,
   "id": "8fd349bf",
   "metadata": {},
   "outputs": [
    {
     "name": "stdout",
     "output_type": "stream",
     "text": [
      "['yamaha', 'suzuki']\n"
     ]
    }
   ],
   "source": [
    "#removing an element from list\n",
    "motorcycles=['honda', 'yamaha', 'suzuki']\n",
    "del motorcycles[0]\n",
    "print(motorcycles)"
   ]
  },
  {
   "cell_type": "code",
   "execution_count": 89,
   "id": "4e0e4fd4",
   "metadata": {},
   "outputs": [
    {
     "name": "stdout",
     "output_type": "stream",
     "text": [
      "Gift carry your bike\n",
      "Finn carry your toys\n",
      "Elijah carry your Bible\n",
      "['Ben', 'Gift', 'Finn', 'Elijah']\n",
      "['Gift', 'Finn', 'Elijah']\n"
     ]
    }
   ],
   "source": [
    "#exercise\n",
    "Dinner_list=['Gift','Finn','Elijah']\n",
    "message=f\"{Dinner_list[0]} carry your bike\"\n",
    "print(message)\n",
    "message=f\"{Dinner_list[1]} carry your toys\"\n",
    "print(message)\n",
    "message=f\"{Dinner_list[2]} carry your Bible\"\n",
    "print(message)\n",
    "Dinner_list.insert(0, 'Ben')\n",
    "print(Dinner_list)\n",
    "del Dinner_list[0]\n",
    "print(Dinner_list)"
   ]
  },
  {
   "cell_type": "code",
   "execution_count": 114,
   "id": "2397deef",
   "metadata": {},
   "outputs": [
    {
     "name": "stdout",
     "output_type": "stream",
     "text": [
      "['Gift', 'Finn', 'Tyrone']\n",
      "Gift carry your bike\n",
      "Finn carry your toys\n",
      "Tyrone carry your Bible\n"
     ]
    }
   ],
   "source": [
    "Dinner_list=['Gift','Finn','Elijah']\n",
    "#modifying list\n",
    "Dinner_list[2]='Tyrone'\n",
    "print(Dinner_list)\n",
    "message=f\"{Dinner_list[0]} carry your bike\"\n",
    "print(message)\n",
    "message=f\"{Dinner_list[1]} carry your toys\"\n",
    "print(message)\n",
    "message=f\"{Dinner_list[2]} carry your Bible\"\n",
    "print(message)"
   ]
  },
  {
   "cell_type": "code",
   "execution_count": 93,
   "id": "3a6c40ab",
   "metadata": {},
   "outputs": [
    {
     "name": "stdout",
     "output_type": "stream",
     "text": [
      "['Gift', 'Finn', 'Tyrone', 'Elijah']\n"
     ]
    }
   ],
   "source": [
    "#adding on the list\n",
    "Dinner_list.append('Elijah')\n",
    "print(Dinner_list)"
   ]
  },
  {
   "cell_type": "code",
   "execution_count": 94,
   "id": "c1324963",
   "metadata": {},
   "outputs": [
    {
     "name": "stdout",
     "output_type": "stream",
     "text": [
      "['Ben', 'Gift', 'Finn', 'Tyrone', 'Elijah']\n"
     ]
    }
   ],
   "source": [
    "#inserting to a list\n",
    "Dinner_list.insert(0,'Ben')\n",
    "print(Dinner_list)"
   ]
  },
  {
   "cell_type": "code",
   "execution_count": 95,
   "id": "6c17fea1",
   "metadata": {},
   "outputs": [
    {
     "name": "stdout",
     "output_type": "stream",
     "text": [
      "['Gift', 'Finn', 'Tyrone', 'Elijah']\n"
     ]
    }
   ],
   "source": [
    "#deleting to a list\n",
    "del Dinner_list[0]\n",
    "print(Dinner_list)"
   ]
  },
  {
   "cell_type": "code",
   "execution_count": 96,
   "id": "ddf9f18a",
   "metadata": {},
   "outputs": [
    {
     "name": "stdout",
     "output_type": "stream",
     "text": [
      "['audi', 'bmw', 'subaru', 'toyota']\n"
     ]
    }
   ],
   "source": [
    "#organizing a list\n",
    "##sorting a list permanently with the sort() method (in alphabetical order)\n",
    "cars=['bmw','audi','toyota','subaru']\n",
    "cars.sort()\n",
    "print(cars)"
   ]
  },
  {
   "cell_type": "code",
   "execution_count": 102,
   "id": "0c410cab",
   "metadata": {},
   "outputs": [
    {
     "name": "stdout",
     "output_type": "stream",
     "text": [
      "['toyota', 'subaru', 'bmw', 'audi']\n"
     ]
    }
   ],
   "source": [
    "cars.sort(reverse=True)\n",
    "print(cars)"
   ]
  },
  {
   "cell_type": "code",
   "execution_count": 98,
   "id": "ec5ddb67",
   "metadata": {},
   "outputs": [
    {
     "name": "stdout",
     "output_type": "stream",
     "text": [
      "Here is the original list:\n",
      "['toyota', 'subaru', 'bmw', 'audi']\n"
     ]
    }
   ],
   "source": [
    "#sorting a list temporarily with the sorted() function\n",
    "print(\"Here is the original list:\")\n",
    "print(cars)"
   ]
  },
  {
   "cell_type": "code",
   "execution_count": 99,
   "id": "a9fdcea4",
   "metadata": {},
   "outputs": [
    {
     "name": "stdout",
     "output_type": "stream",
     "text": [
      "\n",
      "Here is the original list:\n",
      "['audi', 'bmw', 'subaru', 'toyota']\n"
     ]
    }
   ],
   "source": [
    "print(\"\\nHere is the original list:\")\n",
    "print(sorted(cars))"
   ]
  },
  {
   "cell_type": "code",
   "execution_count": 100,
   "id": "869db829",
   "metadata": {},
   "outputs": [
    {
     "name": "stdout",
     "output_type": "stream",
     "text": [
      "\n",
      "Here is the original list again:\n",
      "['toyota', 'subaru', 'bmw', 'audi']\n"
     ]
    }
   ],
   "source": [
    "print(\"\\nHere is the original list again:\")\n",
    "print(cars)"
   ]
  },
  {
   "cell_type": "code",
   "execution_count": 103,
   "id": "558f3f8b",
   "metadata": {},
   "outputs": [
    {
     "name": "stdout",
     "output_type": "stream",
     "text": [
      "['subaru', 'toyota', 'audi', 'bmw']\n"
     ]
    }
   ],
   "source": [
    "#printing a list in reverse order\n",
    "cars=['bmw','audi','toyota','subaru']\n",
    "cars.reverse()\n",
    "print(cars)"
   ]
  },
  {
   "cell_type": "code",
   "execution_count": 104,
   "id": "923dc8b4",
   "metadata": {},
   "outputs": [
    {
     "data": {
      "text/plain": [
       "4"
      ]
     },
     "execution_count": 104,
     "metadata": {},
     "output_type": "execute_result"
    }
   ],
   "source": [
    "#finding the length of a list\n",
    "cars=['bmw','audi','toyota','subaru']\n",
    "len(cars)"
   ]
  },
  {
   "cell_type": "code",
   "execution_count": 105,
   "id": "c706a05c",
   "metadata": {},
   "outputs": [
    {
     "name": "stdout",
     "output_type": "stream",
     "text": [
      "['United States of America', 'canada', 'united Kingdom', 'South Africa']\n"
     ]
    }
   ],
   "source": [
    "#exercise\n",
    "Visit_places=['United States of America','canada','united Kingdom','South Africa']\n",
    "print(Visit_places)"
   ]
  },
  {
   "cell_type": "code",
   "execution_count": 106,
   "id": "f285402c",
   "metadata": {},
   "outputs": [
    {
     "name": "stdout",
     "output_type": "stream",
     "text": [
      "['South Africa', 'United States of America', 'canada', 'united Kingdom']\n"
     ]
    }
   ],
   "source": [
    "Visit_places.sort()\n",
    "print(Visit_places)"
   ]
  },
  {
   "cell_type": "code",
   "execution_count": 108,
   "id": "3ef51bc1",
   "metadata": {},
   "outputs": [
    {
     "name": "stdout",
     "output_type": "stream",
     "text": [
      "['united Kingdom', 'canada', 'United States of America', 'South Africa']\n"
     ]
    }
   ],
   "source": [
    "Visit_places.reverse()\n",
    "print(Visit_places)"
   ]
  },
  {
   "cell_type": "code",
   "execution_count": 110,
   "id": "a72a0120",
   "metadata": {},
   "outputs": [
    {
     "name": "stdout",
     "output_type": "stream",
     "text": [
      "['South Africa', 'United States of America', 'canada', 'united Kingdom']\n"
     ]
    }
   ],
   "source": [
    "Visit_places.sort()\n",
    "print(Visit_places)"
   ]
  },
  {
   "cell_type": "code",
   "execution_count": 111,
   "id": "940a4a45",
   "metadata": {},
   "outputs": [
    {
     "data": {
      "text/plain": [
       "4"
      ]
     },
     "execution_count": 111,
     "metadata": {},
     "output_type": "execute_result"
    }
   ],
   "source": [
    "len(Visit_places)"
   ]
  },
  {
   "cell_type": "code",
   "execution_count": 113,
   "id": "4fd309d1",
   "metadata": {},
   "outputs": [
    {
     "name": "stdout",
     "output_type": "stream",
     "text": [
      "suzuki\n"
     ]
    }
   ],
   "source": [
    "#avoiding index errors when working with lists\n",
    "motorcycles=['honda','yamaha','suzuki']\n",
    "print(motorcycles[-1])"
   ]
  },
  {
   "cell_type": "code",
   "execution_count": null,
   "id": "a5b061d5",
   "metadata": {},
   "outputs": [
    {
     "ename": "",
     "evalue": "",
     "output_type": "error",
     "traceback": [
      "\u001b[1;31mRunning cells with 'Python 3.13.1' requires the ipykernel package.\n",
      "\u001b[1;31mRun the following command to install 'ipykernel' into the Python environment. \n",
      "\u001b[1;31mCommand: 'c:/Users/Admin/AppData/Local/Programs/Python/Python313/python3.13t.exe -m pip install ipykernel -U --user --force-reinstall'"
     ]
    }
   ],
   "source": [
    "#Working with List\n",
    "#looping through an entire list-used to execute a block of code repeatedly\n",
    "#for loops\n",
    "magicians=['alice', 'david', 'carolina']\n",
    "for magician in magicians:\n",
    "    print(magician)"
   ]
  },
  {
   "cell_type": "code",
   "execution_count": null,
   "id": "6495b71e",
   "metadata": {},
   "outputs": [],
   "source": [
    "x=\"awesome\"\n",
    "def myfunc():\n",
    " print(\"Python is\" +x)\n",
    " myfunc()\n"
   ]
  }
 ],
 "metadata": {
  "kernelspec": {
   "display_name": "Python 3",
   "language": "python",
   "name": "python3"
  },
  "language_info": {
   "codemirror_mode": {
    "name": "ipython",
    "version": 3
   },
   "file_extension": ".py",
   "mimetype": "text/x-python",
   "name": "python",
   "nbconvert_exporter": "python",
   "pygments_lexer": "ipython3",
   "version": "3.13.1"
  }
 },
 "nbformat": 4,
 "nbformat_minor": 5
}
